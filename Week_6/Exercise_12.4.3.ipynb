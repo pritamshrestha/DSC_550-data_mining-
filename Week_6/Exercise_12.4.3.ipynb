{
 "cells": [
  {
   "cell_type": "markdown",
   "metadata": {},
   "source": [
    "Q: Consider the one-dimentional training set\n",
    "    (1,1),(2,2),(4,3),(8,4),(16,5),(32,6)\n",
    "   Describe the function f(q), the label that is returned in response to the query q, when the interpolation used is:\n",
    "    a) The lebal of the nearest neighbor.\n",
    "    b) The average of the labels of the two nearest neighbors."
   ]
  },
  {
   "cell_type": "code",
   "execution_count": 1,
   "metadata": {},
   "outputs": [
    {
     "data": {
      "image/png": "[encoded data removed]",
      "text/plain": [
       "<Figure size 432x288 with 1 Axes>"
      ]
     },
     "metadata": {
      "needs_background": "light"
     },
     "output_type": "display_data"
    },
    {
     "name": "stdout",
     "output_type": "stream",
     "text": [
      "Finally block is executed whether exception is handled or not!!\n"
     ]
    }
   ],
   "source": [
    "# Pritam shrestha\n",
    "# DSC550 - Data Mining\n",
    "# Date: 07/08/2020\n",
    "# Problem:12.4.3\n",
    "\n",
    "# Got little help from friend and your zoom video.\n",
    "\n",
    "\n",
    "import pandas as pd\n",
    "import numpy as np\n",
    "import matplotlib.pyplot as plt\n",
    "%matplotlib inline\n",
    "import traceback\n",
    "\n",
    "\"\"\"\n",
    "According to the theory, we can use only one nearest neighbor.There is no need for a weighting.\n",
    "Just take the value of any f(x) to be the label y associated with the training-set point nearest to query point x.\n",
    "\"\"\"\n",
    " #Import important libraries\n",
    "import numpy as np\n",
    "import matplotlib.pyplot as plt\n",
    "import traceback\n",
    "\n",
    "\n",
    "def eval_xy(points):\n",
    "    \"\"\"\n",
    "    Function to get x and y points\n",
    "    \"\"\"\n",
    "    x_point = []\n",
    "    y_point = []\n",
    "    for i in range(len(points)):\n",
    "        x_point.append(points[i][0])\n",
    "        y_point.append(points[i][1])\n",
    "    return x_point, y_point\n",
    "\n",
    "if __name__ == '__main__':\n",
    "    # given points\n",
    "    given_points = np.array([[1, 1], [2, 2], [4, 3], [8, 4], [16, 5], [32, 6]])\n",
    "\n",
    "    # evaluating x and y points\n",
    "    x, y = eval_xy(given_points)\n",
    "\n",
    "    try:\n",
    "       # plotting for first case\n",
    "        plt.step(x, y)\n",
    "        plt.plot(x, y, '*',c=\"green\")\n",
    "        plt.title(\"Nearest Neighbors\")\n",
    "        plt.show()\n",
    "    except Exception as exception:\n",
    "        print('exception')\n",
    "        traceback.print_exc()\n",
    "        print('An exception of type {0} occurred. Arguments:\\n{1!r}'.format(type(exception).__name__, exception.args))\n",
    "    finally:\n",
    "        print(\"Finally block is executed whether exception is handled or not!!\")\n"
   ]
  },
  {
   "cell_type": "code",
   "execution_count": 2,
   "metadata": {},
   "outputs": [
    {
     "data": {
      "image/png": "[encoded data removed]",
      "text/plain": [
       "<Figure size 432x288 with 1 Axes>"
      ]
     },
     "metadata": {
      "needs_background": "light"
     },
     "output_type": "display_data"
    },
    {
     "name": "stdout",
     "output_type": "stream",
     "text": [
      "Finally block is executed whether exception is handled or not!!\n"
     ]
    }
   ],
   "source": [
    "#b) Average of the two nearest neighbhor \n",
    "\"\"\"\n",
    "The weight of the two nearest neighbhor are each 1/2, regardless of how far they are from the query point x.\n",
    "\"\"\"\n",
    "def eval_avg(x, y):\n",
    "    \"\"\"\n",
    "    Function to calculate average of y points\n",
    "    \"\"\"\n",
    "    y_avg = []\n",
    "    for i in range(len(y)-1):\n",
    "        y_avg.append((y[i]+y[i+1])/2)\n",
    "    x_avg = x[:5]\n",
    "    return x_avg, y_avg\n",
    "\n",
    "if __name__ == '__main__':\n",
    "    # Given set of points\n",
    "    given_points = np.array([[1, 1], [2, 2], [4, 3], [8, 4], [16, 5], [32, 6]])\n",
    "    # evaluating x and y points\n",
    "    x, y = eval_xy(given_points)\n",
    "\n",
    "    try:\n",
    "       \n",
    "        # plotting\n",
    "        x1, y1 =eval_avg(x, y)\n",
    "        plt.step(x1, y1)\n",
    "        plt.plot(x, y, '+',c='purple')\n",
    "        plt.title(\"Average of the two Nearest_Neighbors\")\n",
    "        plt.show()\n",
    "\n",
    "    except Exception as exception:\n",
    "        print('exception')\n",
    "        traceback.print_exc()\n",
    "        print('An exception of type {0} occurred. Arguments:\\n{1!r}'.format(type(exception).__name__, exception.args))\n",
    "    finally:\n",
    "        print(\"Finally block is executed whether exception is handled or not!!\")\n"
   ]
  },
  {
   "cell_type": "code",
   "execution_count": 3,
   "metadata": {},
   "outputs": [],
   "source": [
    "# Thanks!!!"
   ]
  }
 ],
 "metadata": {
  "kernelspec": {
   "display_name": "Python 3",
   "language": "python",
   "name": "python3"
  },
  "language_info": {
   "codemirror_mode": {
    "name": "ipython",
    "version": 3
   },
   "file_extension": ".py",
   "mimetype": "text/x-python",
   "name": "python",
   "nbconvert_exporter": "python",
   "pygments_lexer": "ipython3",
   "version": "3.7.4"
  }
 },
 "nbformat": 4,
 "nbformat_minor": 2
}
