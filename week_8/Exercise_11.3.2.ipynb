{
 "cells": [
  {
   "cell_type": "markdown",
   "metadata": {},
   "source": [
    "Q) Use the SVD from Fig. 11.7. Suppose Leslie Assigns rating 3 to Alien and rating 4 to titanic, giving us a representation of Lesliein \"movie space\" of [0,3,0,0,4].Find the representation of Leslie in concept space. What does that representation predict about howwell leslie would like the other movies appearing in our example data?"
   ]
  },
  {
   "cell_type": "code",
   "execution_count": 38,
   "metadata": {},
   "outputs": [],
   "source": [
    "# Pritam shrestha\n",
    "# DSC550 - Data Mining\n",
    "# Date: 07/26/2020\n",
    "# Problem:11.3.2\n",
    "# References: http://orion.towson.edu/~mzimand/ainternetalg/Sol-Assign_10.pdf and Mining of Massive Datasets.\n",
    "              "
   ]
  },
  {
   "cell_type": "code",
   "execution_count": 39,
   "metadata": {},
   "outputs": [
    {
     "data": {
      "text/plain": [
       "array([[1, 1, 1, 0, 0],\n",
       "       [3, 3, 3, 0, 0],\n",
       "       [4, 4, 4, 0, 0],\n",
       "       [5, 5, 5, 0, 0],\n",
       "       [0, 0, 0, 4, 4],\n",
       "       [0, 0, 0, 5, 5],\n",
       "       [0, 0, 0, 2, 2]])"
      ]
     },
     "execution_count": 39,
     "metadata": {},
     "output_type": "execute_result"
    }
   ],
   "source": [
    "import numpy as np\n",
    "from scipy.linalg import svd\n",
    "\n",
    "# the given vectors form figure.\n",
    "M=np.array([[1,1,1,0,0],[3,3,3,0,0],[4,4,4,0,0],[5,5,5,0,0],[0,0,0,4,4],[0,0,0,5,5],[0,0,0,2,2]])\n",
    "M"
   ]
  },
  {
   "cell_type": "code",
   "execution_count": 40,
   "metadata": {},
   "outputs": [
    {
     "data": {
      "text/plain": [
       "array([[0.14, 0.  ],\n",
       "       [0.42, 0.  ],\n",
       "       [0.56, 0.  ],\n",
       "       [0.7 , 0.  ],\n",
       "       [0.  , 0.6 ],\n",
       "       [0.  , 0.75],\n",
       "       [0.  , 0.3 ]])"
      ]
     },
     "execution_count": 40,
     "metadata": {},
     "output_type": "execute_result"
    }
   ],
   "source": [
    "# from given fig\n",
    "U=np.array([[.14,0],[.42,0],[.56,0],[.70,0],[0,.60],[0,.75],[0,.30]])\n",
    "U"
   ]
  },
  {
   "cell_type": "code",
   "execution_count": 41,
   "metadata": {},
   "outputs": [
    {
     "data": {
      "text/plain": [
       "array([[12.4,  0. ],\n",
       "       [ 0. ,  9.5]])"
      ]
     },
     "execution_count": 41,
     "metadata": {},
     "output_type": "execute_result"
    }
   ],
   "source": [
    "# from given fig\n",
    "sigma=np.array([[12.4,0],[0,9.5]])\n",
    "sigma"
   ]
  },
  {
   "cell_type": "code",
   "execution_count": 42,
   "metadata": {},
   "outputs": [
    {
     "data": {
      "text/plain": [
       "array([[0.58, 0.58, 0.58, 0.  , 0.  ],\n",
       "       [0.  , 0.  , 0.  , 0.71, 0.71]])"
      ]
     },
     "execution_count": 42,
     "metadata": {},
     "output_type": "execute_result"
    }
   ],
   "source": [
    "# from given fig\n",
    "VT=np.array([[.58,.58,.58,0,0],[0,0,0,.71,.71]])\n",
    "VT"
   ]
  },
  {
   "cell_type": "code",
   "execution_count": 43,
   "metadata": {},
   "outputs": [
    {
     "data": {
      "text/plain": [
       "array([[1, 1, 1, 0, 0],\n",
       "       [3, 3, 3, 0, 0],\n",
       "       [4, 4, 4, 0, 0],\n",
       "       [5, 5, 5, 0, 0],\n",
       "       [0, 0, 0, 4, 4],\n",
       "       [0, 0, 0, 5, 5],\n",
       "       [0, 0, 0, 2, 2],\n",
       "       [0, 3, 0, 0, 4]])"
      ]
     },
     "execution_count": 43,
     "metadata": {},
     "output_type": "execute_result"
    }
   ],
   "source": [
    "# Leslie movie space\n",
    "Leslie=np.array([[1,1,1,0,0],[3,3,3,0,0],[4,4,4,0,0],[5,5,5,0,0],[0,0,0,4,4],[0,0,0,5,5],[0,0,0,2,2],[0,3,0,0,4]])\n",
    "Leslie"
   ]
  },
  {
   "cell_type": "code",
   "execution_count": 23,
   "metadata": {},
   "outputs": [],
   "source": [
    "Leslie_space=np.array([0,3,0,0,4])"
   ]
  },
  {
   "cell_type": "code",
   "execution_count": 44,
   "metadata": {},
   "outputs": [
    {
     "data": {
      "text/plain": [
       "array([1.74, 2.84])"
      ]
     },
     "execution_count": 44,
     "metadata": {},
     "output_type": "execute_result"
    }
   ],
   "source": [
    "# now calculating other rating using movie space\n",
    "rating=np.dot(Leslie_space,VT.T)\n",
    "rating"
   ]
  },
  {
   "cell_type": "code",
   "execution_count": 48,
   "metadata": {},
   "outputs": [
    {
     "name": "stdout",
     "output_type": "stream",
     "text": [
      "[1.0092 1.0092 1.0092 2.0164 2.0164]\n"
     ]
    }
   ],
   "source": [
    "# for other movies.\n",
    "other_movies=np.dot(rating,VT)\n",
    "print(other_movies)"
   ]
  },
  {
   "cell_type": "code",
   "execution_count": 51,
   "metadata": {},
   "outputs": [],
   "source": [
    "# From above result, she likes romantic movie silghtly more than others.\n",
    "# Thanks!!!"
   ]
  }
 ],
 "metadata": {
  "kernelspec": {
   "display_name": "Python 3",
   "language": "python",
   "name": "python3"
  },
  "language_info": {
   "codemirror_mode": {
    "name": "ipython",
    "version": 3
   },
   "file_extension": ".py",
   "mimetype": "text/x-python",
   "name": "python",
   "nbconvert_exporter": "python",
   "pygments_lexer": "ipython3",
   "version": "3.7.4"
  }
 },
 "nbformat": 4,
 "nbformat_minor": 2
}
