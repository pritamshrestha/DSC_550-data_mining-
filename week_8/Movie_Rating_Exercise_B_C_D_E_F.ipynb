{
 "cells": [
  {
   "cell_type": "markdown",
   "metadata": {},
   "source": [
    "b) The first five attributes are Boolean, and the last is an integer \"rating.\" Assume that the scale factor for the rating is α. Compute, as a function of α, the cosine distances between each pair of profiles. For each of α = 0, 0.5, 1, and 2, determine the cosine of the angle between each pair of vectors."
   ]
  },
  {
   "cell_type": "code",
   "execution_count": 15,
   "metadata": {},
   "outputs": [],
   "source": [
    "# Pritam shrestha\n",
    "# DSC550 - Data Mining\n",
    "# Date: 07/22/2020\n",
    "# Problem:1(B,C,D,E,F)"
   ]
  },
  {
   "cell_type": "code",
   "execution_count": 7,
   "metadata": {},
   "outputs": [],
   "source": [
    "# creating function to calculate cosine distance\n",
    "def cosDist(x,y):\n",
    "    return np.dot(x,y) / (np.sqrt(np.sum(np.power(x,2))) * np.sqrt(np.sum(np.power(y,2))))"
   ]
  },
  {
   "cell_type": "code",
   "execution_count": 8,
   "metadata": {},
   "outputs": [],
   "source": [
    "import pandas as pd\n",
    "import numpy as np\n",
    "\n",
    "# defining function to calculate weighted _cosine_dist\n",
    "def calculate_weighted_cosine_dist(colIndex,alpha):\n",
    "    p=[[1,0,1,0,1,2],[1,1,0,0,1,6],[0,1,0,1,0,2]]\n",
    "    o=pd.DataFrame(p,columns=None)\n",
    "    # Transform of o matrix\n",
    "    m=o.T\n",
    "    # adding columns for m matrix\n",
    "    m.columns=['A','B','C']\n",
    "    data=m.T\n",
    "    data[colIndex]=data[colIndex] * alpha\n",
    "    print(cosDist(data.loc['A'], data.loc['B']))\n",
    "    print(cosDist(data.loc['B'], data.loc['C']))\n",
    "    print(cosDist(data.loc['A'], data.loc['C']))\n",
    "    print(\"Weighted value:\")\n",
    "    print(data[colIndex])\n"
   ]
  },
  {
   "cell_type": "code",
   "execution_count": 64,
   "metadata": {},
   "outputs": [
    {
     "name": "stdout",
     "output_type": "stream",
     "text": [
      "0.6666666666666667\n",
      "0.40824829046386296\n",
      "0.0\n",
      "Weighted value:\n",
      "A    0\n",
      "B    0\n",
      "C    0\n",
      "Name: 5, dtype: int64\n"
     ]
    }
   ],
   "source": [
    "# weighted index=5\n",
    "# for alpha=0\n",
    "calculate_weighted_cosine_dist(5,0)"
   ]
  },
  {
   "cell_type": "code",
   "execution_count": 65,
   "metadata": {},
   "outputs": [
    {
     "name": "stdout",
     "output_type": "stream",
     "text": [
      "0.7216878364870323\n",
      "0.6666666666666667\n",
      "0.2886751345948129\n",
      "Weighted value:\n",
      "A    1.0\n",
      "B    3.0\n",
      "C    1.0\n",
      "Name: 5, dtype: float64\n"
     ]
    }
   ],
   "source": [
    "# for alpha=0.5\n",
    "calculate_weighted_cosine_dist(5,0.5)"
   ]
  },
  {
   "cell_type": "code",
   "execution_count": 66,
   "metadata": {},
   "outputs": [
    {
     "name": "stdout",
     "output_type": "stream",
     "text": [
      "0.8473185457363233\n",
      "0.8498365855987975\n",
      "0.6172133998483676\n",
      "Weighted value:\n",
      "A    2\n",
      "B    6\n",
      "C    2\n",
      "Name: 5, dtype: int64\n"
     ]
    }
   ],
   "source": [
    "# for alpha=1\n",
    "calculate_weighted_cosine_dist(5,1)"
   ]
  },
  {
   "cell_type": "code",
   "execution_count": 67,
   "metadata": {},
   "outputs": [
    {
     "name": "stdout",
     "output_type": "stream",
     "text": [
      "0.9460945407607455\n",
      "0.9525793444156805\n",
      "0.8651809126974003\n",
      "Weighted value:\n",
      "A     4\n",
      "B    12\n",
      "C     4\n",
      "Name: 5, dtype: int64\n"
     ]
    }
   ],
   "source": [
    "# for alpha=2\n",
    "calculate_weighted_cosine_dist(5,2)"
   ]
  },
  {
   "cell_type": "code",
   "execution_count": 68,
   "metadata": {},
   "outputs": [],
   "source": [
    "# Thanks!!!"
   ]
  },
  {
   "cell_type": "markdown",
   "metadata": {},
   "source": [
    "c)\"...There are many options for the second column ⟨x, y, z⟩. Write down those constraints on x, y, and z. Then, identify in the list below the one column that could be ⟨x, y, z⟩. \"\n",
    "\n",
    "There is no list. So, please construct an orthonormal vector and show your work on how you computed it. There are infinitively many, so don't worry if you have a slightly different answer than one of your classmates."
   ]
  },
  {
   "cell_type": "code",
   "execution_count": 69,
   "metadata": {},
   "outputs": [],
   "source": [
    "# let orthogola vector is\n",
    "o_v=np.array([1,1,-1])\n"
   ]
  },
  {
   "cell_type": "raw",
   "metadata": {},
   "source": [
    "# now \n",
    "col_v=na.array([x,y,z])\n",
    "# dot product of the orthogonal vector is 0\n",
    "col_v.o_v=0\n",
    "(x,y,z).(1,1,-1)=0\n",
    "x+y-z=0\n",
    "From theory\n",
    "x=1,\n",
    "y=1\n",
    "Hence,\n",
    "1+1-z=0\n",
    "z=2\n",
    "finally \n",
    "col_v=np.array([x,y,z])\n",
    "col_v=np.array([1,1,2])\n"
   ]
  },
  {
   "cell_type": "code",
   "execution_count": 60,
   "metadata": {},
   "outputs": [],
   "source": [
    "# hence the col_v is\n",
    "col_v=np.array([1,1,2])"
   ]
  },
  {
   "cell_type": "code",
   "execution_count": 62,
   "metadata": {},
   "outputs": [
    {
     "data": {
      "text/plain": [
       "0"
      ]
     },
     "execution_count": 62,
     "metadata": {},
     "output_type": "execute_result"
    }
   ],
   "source": [
    "# checking condition\n",
    "result2=np.dot(col_v,o_v)\n",
    "result"
   ]
  },
  {
   "cell_type": "code",
   "execution_count": 63,
   "metadata": {},
   "outputs": [
    {
     "data": {
      "text/plain": [
       "array([1, 1, 2])"
      ]
     },
     "execution_count": 63,
     "metadata": {},
     "output_type": "execute_result"
    }
   ],
   "source": [
    "# Hence, proved and final vector is col_v is\n",
    "col_v"
   ]
  },
  {
   "cell_type": "code",
   "execution_count": null,
   "metadata": {},
   "outputs": [],
   "source": [
    "# Thanks!!!"
   ]
  },
  {
   "cell_type": "markdown",
   "metadata": {},
   "source": [
    "d)Suppose we have three points in a two dimensional space: (1,1), (2,2), and (3,4). We want to perform PCA on these points, so we construct a 2-by-2 matrix whose eigenvectors are the directions that best represent these three points. Construct this matrix."
   ]
  },
  {
   "cell_type": "code",
   "execution_count": 26,
   "metadata": {},
   "outputs": [
    {
     "name": "stdout",
     "output_type": "stream",
     "text": [
      "[[1 1]\n",
      " [2 2]\n",
      " [3 4]]\n"
     ]
    }
   ],
   "source": [
    "# finding best eigenvectors.\n",
    "import scipy.linalg as la\n",
    "V = np.array([[1,1],[2,2],[3,4]])\n",
    "print(V)\n"
   ]
  },
  {
   "cell_type": "code",
   "execution_count": 27,
   "metadata": {},
   "outputs": [
    {
     "name": "stdout",
     "output_type": "stream",
     "text": [
      "[[14 17]\n",
      " [17 21]]\n"
     ]
    }
   ],
   "source": [
    "# for eigenvalue and vectors\n",
    "V1 = np.dot(V.transpose(),V)\n",
    "print(V1)"
   ]
  },
  {
   "cell_type": "code",
   "execution_count": 30,
   "metadata": {},
   "outputs": [
    {
     "data": {
      "text/plain": [
       "array([[-0.77512996, -0.63180182],\n",
       "       [ 0.63180182, -0.77512996]])"
      ]
     },
     "execution_count": 30,
     "metadata": {},
     "output_type": "execute_result"
    }
   ],
   "source": [
    "# evaluating 2x2 matrix\n",
    "eigenvalue,eigenvector=la.eig(V1)\n",
    "eigenvector"
   ]
  },
  {
   "cell_type": "code",
   "execution_count": null,
   "metadata": {},
   "outputs": [],
   "source": [
    "# Thanks!!!"
   ]
  },
  {
   "cell_type": "markdown",
   "metadata": {},
   "source": [
    "E)Identify the vector that is orthogonal to the vector [1,2,3]."
   ]
  },
  {
   "cell_type": "code",
   "execution_count": 59,
   "metadata": {},
   "outputs": [],
   "source": [
    "# Theory: dot product of two orthogoal vector is always 0.\n",
    "# given vector\n",
    "v=np.array([1,2,3])"
   ]
  },
  {
   "cell_type": "raw",
   "metadata": {},
   "source": [
    "suppose, v1=np.array([p,q,r]) is orthogonal vectors\n",
    "Then, it's dot product becomes 0(Zero)\n",
    "v.v1=0\n",
    "or,(1,2,3).(p,q,r)=0\n",
    "or, p+2q+3r=0\n",
    "From theory p=1\n",
    "q=1\n",
    "Now, 1+2+3r=0\n",
    "    or, 3+3r=0\n",
    "    or,3(1+r)=0\n",
    "    or,1+r=0\n",
    "    0r,r=-1\n",
    "Hence orthogonal vector is (p,q,r)=(1,1,-1)"
   ]
  },
  {
   "cell_type": "code",
   "execution_count": 48,
   "metadata": {},
   "outputs": [
    {
     "name": "stdout",
     "output_type": "stream",
     "text": [
      "0\n"
     ]
    }
   ],
   "source": [
    "# checking \n",
    "v=np.array([1,2,3])\n",
    "\n",
    "v1=np.array([1,1,-1])\n",
    "result=np.dot(v1,v)\n",
    "print(result)"
   ]
  },
  {
   "cell_type": "raw",
   "metadata": {},
   "source": [
    "f) Consider the diagonal matrix M =\n",
    "\n",
    "1\t0\t0\n",
    "0\t2\t0\n",
    "0\t0\t0\n",
    "Compute its Moore-Penrose pseudoinverse."
   ]
  },
  {
   "cell_type": "code",
   "execution_count": 70,
   "metadata": {},
   "outputs": [
    {
     "name": "stdout",
     "output_type": "stream",
     "text": [
      "[[1.  0.  0. ]\n",
      " [0.  0.5 0. ]\n",
      " [0.  0.  0. ]]\n"
     ]
    }
   ],
   "source": [
    "# changing into dataframe\n",
    "M = pd.DataFrame(np.array([[1, 0, 0], [0, 2, 0], [0, 0, 0]]))\n",
    "# Reference https://numpy.org/doc/stable/reference/generated/numpy.linalg.pinv.html\n",
    "result1=np.linalg.pinv(M)\n",
    "print(result1)"
   ]
  },
  {
   "cell_type": "code",
   "execution_count": 52,
   "metadata": {},
   "outputs": [],
   "source": [
    "# Thanks!!"
   ]
  }
 ],
 "metadata": {
  "kernelspec": {
   "display_name": "Python 3",
   "language": "python",
   "name": "python3"
  },
  "language_info": {
   "codemirror_mode": {
    "name": "ipython",
    "version": 3
   },
   "file_extension": ".py",
   "mimetype": "text/x-python",
   "name": "python",
   "nbconvert_exporter": "python",
   "pygments_lexer": "ipython3",
   "version": "3.7.4"
  }
 },
 "nbformat": 4,
 "nbformat_minor": 2
}
