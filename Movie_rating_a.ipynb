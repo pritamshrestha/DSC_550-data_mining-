{
 "cells": [
  {
   "cell_type": "markdown",
   "metadata": {},
   "source": [
    "Part A) Here is a table of 1-5 star ratings for five movies (M, N, P. Q. R) by three raters (A, B, C).\n",
    "Normalize the ratings by subtracting the average for each row and then subtracting the average for each column in the resulting table."
   ]
  },
  {
   "cell_type": "code",
   "execution_count": 145,
   "metadata": {},
   "outputs": [],
   "source": [
    "# Pritam shrestha\n",
    "# DSC550 - Data Mining\n",
    "# Date: 07/22/2020\n",
    "# Problem:1(A)"
   ]
  },
  {
   "cell_type": "code",
   "execution_count": 144,
   "metadata": {},
   "outputs": [
    {
     "data": {
      "text/html": [
       "<div>\n",
       "<style scoped>\n",
       "    .dataframe tbody tr th:only-of-type {\n",
       "        vertical-align: middle;\n",
       "    }\n",
       "\n",
       "    .dataframe tbody tr th {\n",
       "        vertical-align: top;\n",
       "    }\n",
       "\n",
       "    .dataframe thead th {\n",
       "        text-align: right;\n",
       "    }\n",
       "</style>\n",
       "<table border=\"1\" class=\"dataframe\">\n",
       "  <thead>\n",
       "    <tr style=\"text-align: right;\">\n",
       "      <th></th>\n",
       "      <th>Rater</th>\n",
       "      <th>M</th>\n",
       "      <th>N</th>\n",
       "      <th>P</th>\n",
       "      <th>Q</th>\n",
       "    </tr>\n",
       "  </thead>\n",
       "  <tbody>\n",
       "    <tr>\n",
       "      <th>0</th>\n",
       "      <td>A</td>\n",
       "      <td>1</td>\n",
       "      <td>2</td>\n",
       "      <td>3</td>\n",
       "      <td>5</td>\n",
       "    </tr>\n",
       "    <tr>\n",
       "      <th>1</th>\n",
       "      <td>B</td>\n",
       "      <td>2</td>\n",
       "      <td>3</td>\n",
       "      <td>2</td>\n",
       "      <td>3</td>\n",
       "    </tr>\n",
       "    <tr>\n",
       "      <th>2</th>\n",
       "      <td>C</td>\n",
       "      <td>5</td>\n",
       "      <td>5</td>\n",
       "      <td>5</td>\n",
       "      <td>2</td>\n",
       "    </tr>\n",
       "  </tbody>\n",
       "</table>\n",
       "</div>"
      ],
      "text/plain": [
       "  Rater  M  N  P  Q\n",
       "0     A  1  2  3  5\n",
       "1     B  2  3  2  3\n",
       "2     C  5  5  5  2"
      ]
     },
     "execution_count": 144,
     "metadata": {},
     "output_type": "execute_result"
    }
   ],
   "source": [
    "import pandas as pd\n",
    "# lets create dictionary\n",
    "dict1={'Rater':['A','B','C'],\n",
    "       'M':[1,2,5],\n",
    "       'N':[2,3,5],\n",
    "       'P':[3,2,5],\n",
    "       'Q':[5,3,2]}\n",
    "# creating dataframe\n",
    "ratings =pd.DataFrame(dict1)\n",
    "ratings"
   ]
  },
  {
   "cell_type": "code",
   "execution_count": 106,
   "metadata": {},
   "outputs": [
    {
     "data": {
      "text/html": [
       "<div>\n",
       "<style scoped>\n",
       "    .dataframe tbody tr th:only-of-type {\n",
       "        vertical-align: middle;\n",
       "    }\n",
       "\n",
       "    .dataframe tbody tr th {\n",
       "        vertical-align: top;\n",
       "    }\n",
       "\n",
       "    .dataframe thead th {\n",
       "        text-align: right;\n",
       "    }\n",
       "</style>\n",
       "<table border=\"1\" class=\"dataframe\">\n",
       "  <thead>\n",
       "    <tr style=\"text-align: right;\">\n",
       "      <th></th>\n",
       "      <th>0</th>\n",
       "      <th>1</th>\n",
       "      <th>2</th>\n",
       "    </tr>\n",
       "  </thead>\n",
       "  <tbody>\n",
       "    <tr>\n",
       "      <th>M</th>\n",
       "      <td>1</td>\n",
       "      <td>2</td>\n",
       "      <td>5</td>\n",
       "    </tr>\n",
       "    <tr>\n",
       "      <th>N</th>\n",
       "      <td>2</td>\n",
       "      <td>3</td>\n",
       "      <td>5</td>\n",
       "    </tr>\n",
       "    <tr>\n",
       "      <th>P</th>\n",
       "      <td>3</td>\n",
       "      <td>2</td>\n",
       "      <td>5</td>\n",
       "    </tr>\n",
       "    <tr>\n",
       "      <th>Q</th>\n",
       "      <td>5</td>\n",
       "      <td>3</td>\n",
       "      <td>2</td>\n",
       "    </tr>\n",
       "  </tbody>\n",
       "</table>\n",
       "</div>"
      ],
      "text/plain": [
       "   0  1  2\n",
       "M  1  2  5\n",
       "N  2  3  5\n",
       "P  3  2  5\n",
       "Q  5  3  2"
      ]
     },
     "execution_count": 106,
     "metadata": {},
     "output_type": "execute_result"
    }
   ],
   "source": [
    "# creating another dataframe altering rows to column\n",
    "data_ratings=ratings.T\n",
    "data_ratings.drop('Rater',inplace=True)\n",
    "data_ratings"
   ]
  },
  {
   "cell_type": "code",
   "execution_count": 114,
   "metadata": {},
   "outputs": [
    {
     "name": "stdout",
     "output_type": "stream",
     "text": [
      "[-1.75, -0.75, 0.25, 2.25]\n",
      "[-0.5, 0.5, -0.5, 0.5]\n",
      "[0.75, 0.75, 0.75, -2.25]\n"
     ]
    }
   ],
   "source": [
    "# defining function to create average\n",
    "def Avg(col_name):\n",
    "    avg=[]\n",
    "    for i in col_name:\n",
    "        avg.append(i)\n",
    "        result=sum(avg)/len(col_name)\n",
    "        \n",
    "    return result\n",
    "# calculating average value of each columns\n",
    "a=Avg(data_ratings[0])\n",
    "b=Avg(data_ratings[1])\n",
    "c=Avg(data_ratings[2])\n",
    "\n",
    "# now lets substract the average value.\n",
    "def final_value(col_name,x):\n",
    "    value_after_sub=[]\n",
    "    for i in col_name:\n",
    "        result=(i-x)\n",
    "        value_after_sub.append(result)\n",
    "    return value_after_sub\n",
    "a_f=final_value(data_ratings[0],a)\n",
    "b_f=final_value(data_ratings[1],b)\n",
    "c_f=final_value(data_ratings[2],c)\n",
    "print(a_f)\n",
    "print(b_f)\n",
    "print(c_f)\n"
   ]
  },
  {
   "cell_type": "code",
   "execution_count": 134,
   "metadata": {},
   "outputs": [
    {
     "data": {
      "text/html": [
       "<div>\n",
       "<style scoped>\n",
       "    .dataframe tbody tr th:only-of-type {\n",
       "        vertical-align: middle;\n",
       "    }\n",
       "\n",
       "    .dataframe tbody tr th {\n",
       "        vertical-align: top;\n",
       "    }\n",
       "\n",
       "    .dataframe thead th {\n",
       "        text-align: right;\n",
       "    }\n",
       "</style>\n",
       "<table border=\"1\" class=\"dataframe\">\n",
       "  <thead>\n",
       "    <tr style=\"text-align: right;\">\n",
       "      <th></th>\n",
       "      <th>0</th>\n",
       "      <th>1</th>\n",
       "      <th>2</th>\n",
       "      <th>3</th>\n",
       "    </tr>\n",
       "  </thead>\n",
       "  <tbody>\n",
       "    <tr>\n",
       "      <th>A</th>\n",
       "      <td>-1.75</td>\n",
       "      <td>-0.75</td>\n",
       "      <td>0.25</td>\n",
       "      <td>2.25</td>\n",
       "    </tr>\n",
       "    <tr>\n",
       "      <th>B</th>\n",
       "      <td>-0.50</td>\n",
       "      <td>0.50</td>\n",
       "      <td>-0.50</td>\n",
       "      <td>0.50</td>\n",
       "    </tr>\n",
       "    <tr>\n",
       "      <th>C</th>\n",
       "      <td>0.75</td>\n",
       "      <td>0.75</td>\n",
       "      <td>0.75</td>\n",
       "      <td>-2.25</td>\n",
       "    </tr>\n",
       "  </tbody>\n",
       "</table>\n",
       "</div>"
      ],
      "text/plain": [
       "      0     1     2     3\n",
       "A -1.75 -0.75  0.25  2.25\n",
       "B -0.50  0.50 -0.50  0.50\n",
       "C  0.75  0.75  0.75 -2.25"
      ]
     },
     "execution_count": 134,
     "metadata": {},
     "output_type": "execute_result"
    }
   ],
   "source": [
    "dict2={'A':[-1.75, -0.75, 0.25, 2.25],\n",
    "       'B':[-0.5, 0.5, -0.5, 0.5],\n",
    "       'C':[0.75, 0.75, 0.75, -2.25]}\n",
    "# changing into dataframe\n",
    "f_data=pd.DataFrame(dict2)\n",
    "f_data\n",
    "# changing into original form\n",
    "f_orginal=f_data.T\n",
    "f_orginal"
   ]
  },
  {
   "cell_type": "code",
   "execution_count": 135,
   "metadata": {},
   "outputs": [],
   "source": [
    "# defining function to create average\n",
    "def Avg(col_name):\n",
    "    avg=[]\n",
    "    for i in col_name:\n",
    "        avg.append(i)\n",
    "        result=sum(avg)/len(col_name)\n",
    "        \n",
    "    return result\n",
    "\n",
    "a=Avg(f_orginal[0])\n",
    "b=Avg(f_orginal[1])\n",
    "c=Avg(f_orginal[2])\n",
    "d=Avg(f_orginal[3])"
   ]
  },
  {
   "cell_type": "code",
   "execution_count": 138,
   "metadata": {},
   "outputs": [
    {
     "name": "stdout",
     "output_type": "stream",
     "text": [
      "[-1.25, 0.0, 1.25]\n",
      "[-0.9166666666666666, 0.33333333333333337, 0.5833333333333334]\n",
      "[0.08333333333333334, -0.6666666666666666, 0.5833333333333334]\n",
      "[2.0833333333333335, 0.33333333333333337, -2.4166666666666665]\n"
     ]
    }
   ],
   "source": [
    "def final_value(col_name,x):\n",
    "    value_after_sub=[]\n",
    "    for i in col_name:\n",
    "        result=(i-x)\n",
    "        value_after_sub.append(result)\n",
    "    return value_after_sub\n",
    "# lets finad the final value\n",
    "\n",
    "print(final_value(f_orginal[0],a))\n",
    "print(final_value(f_orginal[1],b))\n",
    "print(final_value(f_orginal[2],c))\n",
    "print(final_value(f_orginal[3],d))"
   ]
  },
  {
   "cell_type": "code",
   "execution_count": 139,
   "metadata": {},
   "outputs": [],
   "source": [
    "# creating dictionary\n",
    "dict3={'Rater':['A','B','C'],\n",
    "       'M':[-1.25, 0.0, 1.25],\n",
    "       'N':[-0.9166666666666666, 0.33333333333333337, 0.5833333333333334],\n",
    "       'P':[0.08333333333333334, -0.6666666666666666, 0.5833333333333334],\n",
    "       'Q':[2.0833333333333335, 0.33333333333333337, -2.4166666666666665]}"
   ]
  },
  {
   "cell_type": "code",
   "execution_count": 142,
   "metadata": {},
   "outputs": [
    {
     "data": {
      "text/html": [
       "<div>\n",
       "<style scoped>\n",
       "    .dataframe tbody tr th:only-of-type {\n",
       "        vertical-align: middle;\n",
       "    }\n",
       "\n",
       "    .dataframe tbody tr th {\n",
       "        vertical-align: top;\n",
       "    }\n",
       "\n",
       "    .dataframe thead th {\n",
       "        text-align: right;\n",
       "    }\n",
       "</style>\n",
       "<table border=\"1\" class=\"dataframe\">\n",
       "  <thead>\n",
       "    <tr style=\"text-align: right;\">\n",
       "      <th></th>\n",
       "      <th>Rater</th>\n",
       "      <th>M</th>\n",
       "      <th>N</th>\n",
       "      <th>P</th>\n",
       "      <th>Q</th>\n",
       "    </tr>\n",
       "  </thead>\n",
       "  <tbody>\n",
       "    <tr>\n",
       "      <th>0</th>\n",
       "      <td>A</td>\n",
       "      <td>-1.25</td>\n",
       "      <td>-0.916667</td>\n",
       "      <td>0.083333</td>\n",
       "      <td>2.083333</td>\n",
       "    </tr>\n",
       "    <tr>\n",
       "      <th>1</th>\n",
       "      <td>B</td>\n",
       "      <td>0.00</td>\n",
       "      <td>0.333333</td>\n",
       "      <td>-0.666667</td>\n",
       "      <td>0.333333</td>\n",
       "    </tr>\n",
       "    <tr>\n",
       "      <th>2</th>\n",
       "      <td>C</td>\n",
       "      <td>1.25</td>\n",
       "      <td>0.583333</td>\n",
       "      <td>0.583333</td>\n",
       "      <td>-2.416667</td>\n",
       "    </tr>\n",
       "  </tbody>\n",
       "</table>\n",
       "</div>"
      ],
      "text/plain": [
       "  Rater     M         N         P         Q\n",
       "0     A -1.25 -0.916667  0.083333  2.083333\n",
       "1     B  0.00  0.333333 -0.666667  0.333333\n",
       "2     C  1.25  0.583333  0.583333 -2.416667"
      ]
     },
     "execution_count": 142,
     "metadata": {},
     "output_type": "execute_result"
    }
   ],
   "source": [
    "# changing into dataframe\n",
    "data_after_sub_avg_on_column=pd.DataFrame(dict3)\n",
    "#printing\n",
    "data_after_sub_avg_on_column\n"
   ]
  },
  {
   "cell_type": "code",
   "execution_count": 143,
   "metadata": {},
   "outputs": [],
   "source": [
    "# Thanks!!!"
   ]
  }
 ],
 "metadata": {
  "kernelspec": {
   "display_name": "Python 3",
   "language": "python",
   "name": "python3"
  },
  "language_info": {
   "codemirror_mode": {
    "name": "ipython",
    "version": 3
   },
   "file_extension": ".py",
   "mimetype": "text/x-python",
   "name": "python",
   "nbconvert_exporter": "python",
   "pygments_lexer": "ipython3",
   "version": "3.7.4"
  }
 },
 "nbformat": 4,
 "nbformat_minor": 2
}
