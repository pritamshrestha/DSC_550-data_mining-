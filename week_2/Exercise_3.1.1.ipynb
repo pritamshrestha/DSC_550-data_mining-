{
 "cells": [
  {
   "cell_type": "code",
   "execution_count": 26,
   "metadata": {},
   "outputs": [],
   "source": [
    "# Name:Pritam Shrestha\n",
    "# FileName:Exercise_3.1.1\n",
    "# Date:6/05/2020\n",
    "# Course: DSC550-Data Mining\n",
    "# Professor/Instructor:Brant Abeln\n",
    "# Description:Uses of Jaccard similarities \n",
    "# Due Date:06/20/20\n",
    "# Assignment No:2.1\n",
    "# Reference:https://stackoverflow.com/questions/46975929/how-can-i-calculate-the-jaccard-similarity-of-two-lists-containing-strings-in-py\n"
   ]
  },
  {
   "cell_type": "code",
   "execution_count": 38,
   "metadata": {},
   "outputs": [],
   "source": [
    "# Q uestions:Compute the Jaccard similarities of each pair of the following three sets: {1,2,3,4},{2,3,5,7}and{2,4,6}.\n",
    "# mathematical formaula of jaccard similarities\n",
    "\n",
    "# if there is two sets A,B then we can use this formula to find the jaccard similarities\n",
    "# j(A,B)=|A Intersection B|/|A|+|B|-|A Intersection B|"
   ]
  },
  {
   "cell_type": "code",
   "execution_count": 40,
   "metadata": {},
   "outputs": [
    {
     "name": "stdout",
     "output_type": "stream",
     "text": [
      "The jaccard similarity between B and C: 0.16666666666666666\n",
      "The jaccard similarity between B and A: 0.3333333333333333\n",
      "The jaccard similarity between C and A: 0.4\n",
      "The percentage of jaccard similarity between B and C: 16.666666666666664\n",
      "The percentage of jaccard similarity between B and A: 33.33333333333333\n",
      "The percentage of jaccard similarity between C and A: 40.0\n",
      "finally block is executed wheather exception is handled or not!!\n"
     ]
    }
   ],
   "source": [
    "# Solution:\n",
    "# initializing the variables\n",
    "\n",
    "A={1,2,3,4}\n",
    "B={2,3,5,7}\n",
    "C={2,4,6}\n",
    "\n",
    "# Creating the function to calculate the jaccard similarities.\n",
    "\n",
    "def jaccard_similarity(set1, set2):\n",
    "    s1 = set(set1)\n",
    "    s2 = set(set2)\n",
    "    return len(s1.intersection(s2)) / len(s1.union(s2))\n",
    "# defining main function to called jaccard similarities\n",
    "def main():\n",
    "    # calling function inside try block\n",
    "    try:\n",
    "        pair1=jaccard_similarity(B,C)\n",
    "        pair2=jaccard_similarity(B,A)\n",
    "        pair3=jaccard_similarity(C,A)\n",
    "        print(\"The jaccard similarity between B and C:\",pair1)\n",
    "        print(\"The jaccard similarity between B and A:\",pair2)\n",
    "        print(\"The jaccard similarity between C and A:\",pair3)\n",
    "    # values are converted into percentage to make more readable.\n",
    "        pair1_in_percentage=pair1*100\n",
    "        pair2_in_percentage=pair2*100\n",
    "        pair3_in_percentage=pair3*100\n",
    "        print(\"The percentage of jaccard similarity between B and C:\",pair1_in_percentage)\n",
    "        print(\"The percentage of jaccard similarity between B and A:\",pair2_in_percentage)\n",
    "        print(\"The percentage of jaccard similarity between C and A:\",pair3_in_percentage)\n",
    "        \n",
    "    # applying except block to catch the execption\n",
    "    except Exception as exception:\n",
    "        print('exception')\n",
    "        traceback.print_exc()\n",
    "        print('An exception of type {0} occurred.  Arguments:\\n{1!r}'.format(type(exception).__name__, exception.args)); \n",
    "    finally:\n",
    "        print(\"finally block is executed wheather exception is handled or not!!\")\n",
    "        \n",
    "if __name__ == '__main__':\n",
    "    main()"
   ]
  }
 ],
 "metadata": {
  "kernelspec": {
   "display_name": "Python 3",
   "language": "python",
   "name": "python3"
  },
  "language_info": {
   "codemirror_mode": {
    "name": "ipython",
    "version": 3
   },
   "file_extension": ".py",
   "mimetype": "text/x-python",
   "name": "python",
   "nbconvert_exporter": "python",
   "pygments_lexer": "ipython3",
   "version": "3.7.4"
  }
 },
 "nbformat": 4,
 "nbformat_minor": 2
}
