{
 "cells": [
  {
   "cell_type": "code",
   "execution_count": 15,
   "metadata": {},
   "outputs": [],
   "source": [
    "# Name:Pritam Shrestha\n",
    "# FileName:Exercise_3.2.1\n",
    "# Date:6/05/2020\n",
    "# Course: DSC550-Data Mining\n",
    "# Professor/Instructor:Brant Abeln\n",
    "# Description:Uses of shingles in the sentence\n",
    "# Due Date:06/20/20\n",
    "# Assignment No:2.1\n",
    "# Reference:https:https://www.learndatasci.com/tutorials/building-recommendation-engine-locality-sensitive-hashing-lsh-python/"
   ]
  },
  {
   "cell_type": "code",
   "execution_count": 16,
   "metadata": {},
   "outputs": [],
   "source": [
    "# Questions: What are the first ten 3-shingles in the first sentence of section 3.2?"
   ]
  },
  {
   "cell_type": "code",
   "execution_count": 17,
   "metadata": {},
   "outputs": [
    {
     "name": "stdout",
     "output_type": "stream",
     "text": [
      "The most effective way to represent documents as sets, for the purpose of identifying lexically similar documents is to construct from the document the set of short strings that appear within it.\n",
      "First ten 3-shingles in testing_sentence:['The', 'he ', 'e m', ' mo', 'mos', 'ost', 'st ', 't e', ' ef', 'eff']\n",
      "finally block is executed wheather exception is handled or not!!\n"
     ]
    }
   ],
   "source": [
    "# Solution:\n",
    "#initializeing the variable \n",
    "testing_sentence='The most effective way to represent documents as sets, for the purpose of identifying lexically similar documents is to construct from the document the set of short strings that appear within it.'\n",
    "# given value of k\n",
    "k = 3\n",
    "\n",
    "# main function to execute the block of code\n",
    "def main():\n",
    "    # try block for execution\n",
    "    try:\n",
    "        # Printing testing sentence\n",
    "        print(testing_sentence)\n",
    "        # printing first ten singhles from the given sentence.\n",
    "        print(\"First ten 3-shingles in testing_sentence:\" + str([testing_sentence[x:x + k] for x in range(0,10)]))\n",
    "        # catching the exception \n",
    "    except Exception as exception:\n",
    "        # printing the exception in nice way.\n",
    "        print('An exception of type {0} occurred.  Arguments:\\n{1!r}'.format(type(exception).__name__, exception.args));  \n",
    "    finally:\n",
    "        print(\"finally block is executed wheather exception is handled or not!!\")\n",
    "\n",
    "if __name__ == '__main__':\n",
    "    main()\n"
   ]
  },
  {
   "cell_type": "code",
   "execution_count": null,
   "metadata": {},
   "outputs": [],
   "source": [
    "#Thanks!!!"
   ]
  }
 ],
 "metadata": {
  "kernelspec": {
   "display_name": "Python 3",
   "language": "python",
   "name": "python3"
  },
  "language_info": {
   "codemirror_mode": {
    "name": "ipython",
    "version": 3
   },
   "file_extension": ".py",
   "mimetype": "text/x-python",
   "name": "python",
   "nbconvert_exporter": "python",
   "pygments_lexer": "ipython3",
   "version": "3.7.4"
  }
 },
 "nbformat": 4,
 "nbformat_minor": 2
}
