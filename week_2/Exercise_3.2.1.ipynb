{
 "cells": [
  {
   "cell_type": "code",
   "execution_count": 15,
   "metadata": {},
   "outputs": [],
   "source": [
    "# Name:Pritam Shrestha\n",
    "# FileName:Exercise_3.2.1\n",
    "# Date:6/05/2020\n",
    "# Course: DSC550-Data Mining\n",
    "# Professor/Instructor:Brant Abeln\n",
    "# Description:Uses of shingles in the sentence\n",
    "# Due Date:06/20/20\n",
    "# Assignment No:2.1\n",
    "# Reference:https:https://www.learndatasci.com/tutorials/building-recommendation-engine-locality-sensitive-hashing-lsh-python/"
   ]
  },
  {
   "cell_type": "code",
   "execution_count": 16,
   "metadata": {},
   "outputs": [],
   "source": [
    "# Questions: What are the first ten 3-shingles in the first sentence of section 3.2?"
   ]
  },
  {
   "cell_type": "code",
   "execution_count": 8,
   "metadata": {},
   "outputs": [
    {
     "name": "stdout",
     "output_type": "stream",
     "text": [
      "Given sentence ==  The most effective way to represent documents as sets, for the purpose of identifying lexically similar documents is to construct from the document the set of short strings that appear within it. \n",
      "\n",
      "First ten 3-shingles in text ==> [['The', 'most', 'effective'], ['most', 'effective', 'way'], ['effective', 'way', 'to'], ['way', 'to', 'represent'], ['to', 'represent', 'documents'], ['represent', 'documents', 'as'], ['documents', 'as', 'sets'], ['as', 'sets', 'for'], ['sets', 'for', 'the'], ['for', 'the', 'purpose']]\n",
      "finally block is executed wheather exception is handled or not!!\n"
     ]
    }
   ],
   "source": [
    "# Solution:\n",
    "#initializeing the variable \n",
    "testing_sentence='The most effective way to represent documents as sets, for the purpose of identifying lexically similar documents is to construct from the document the set of short strings that appear within it.'\n",
    "# given value of k\n",
    "k = 3\n",
    "\n",
    "# main function to execute the block of code\n",
    "def main():\n",
    "    # try block for execution\n",
    "    try:\n",
    "        # printing given text\n",
    "        print('Given sentence == ', testing_sentence, '\\n')\n",
    "        # splitting after replacing comma and storing data on cleaned_sentence variable\n",
    "        cleaned_sentence = testing_sentence.replace(',', '').split()\n",
    "        print(\"First ten 3-shingles in text ==> \" + str([cleaned_sentence[x:x + k] for x in range(0, 10)]))  # Print 3-shingles\n",
    "    except Exception as exception:\n",
    "        # printing the exception in nice way.\n",
    "        print('An exception of type {0} occurred.  Arguments:\\n{1!r}'.format(type(exception).__name__, exception.args));  \n",
    "    finally:\n",
    "        print(\"finally block is executed wheather exception is handled or not!!\")\n",
    "\n",
    "if __name__ == '__main__':\n",
    "    # calling function from main function\n",
    "    main()\n"
   ]
  },
  {
   "cell_type": "code",
   "execution_count": null,
   "metadata": {},
   "outputs": [],
   "source": [
    "#Thanks!!!"
   ]
  }
 ],
 "metadata": {
  "kernelspec": {
   "display_name": "Python 3",
   "language": "python",
   "name": "python3"
  },
  "language_info": {
   "codemirror_mode": {
    "name": "ipython",
    "version": 3
   },
   "file_extension": ".py",
   "mimetype": "text/x-python",
   "name": "python",
   "nbconvert_exporter": "python",
   "pygments_lexer": "ipython3",
   "version": "3.7.4"
  }
 },
 "nbformat": 4,
 "nbformat_minor": 2
}
